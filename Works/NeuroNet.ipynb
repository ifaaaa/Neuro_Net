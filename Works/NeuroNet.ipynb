{
  "nbformat": 4,
  "nbformat_minor": 0,
  "metadata": {
    "colab": {
      "provenance": [],
      "collapsed_sections": []
    },
    "kernelspec": {
      "name": "python3",
      "display_name": "Python 3"
    },
    "language_info": {
      "name": "python"
    }
  },
  "cells": [
    {
      "cell_type": "code",
      "execution_count": 1,
      "metadata": {
        "colab": {
          "base_uri": "https://localhost:8080/"
        },
        "id": "PVFPQZ9qZEb-",
        "outputId": "ad5473a4-cd40-4c81-bf00-ea6771d8e56d"
      },
      "outputs": [
        {
          "output_type": "stream",
          "name": "stdout",
          "text": [
            "hiden_input: [0.25 1.4 ]\n",
            "hiden_output: [0 1]\n",
            "output: 1\n",
            "result: True\n"
          ]
        }
      ],
      "source": [
        "import numpy as np\n",
        "\n",
        "vodka = 1.0\n",
        "rain = 0.0\n",
        "friend = 1.0\n",
        "\n",
        "def activation_function(x):\n",
        "  if x >= 0.5:\n",
        "    return 1\n",
        "  else:\n",
        "    return 0\n",
        "\n",
        "def predict(vodka, rain, friend):\n",
        "  inputs = np.array([vodka, rain, friend])\n",
        "  weights_input_to_hiden_1 = [0.25, 0.25, 0]\n",
        "  weights_input_to_hiden_2 = [0.5, -0.4, 0.9]\n",
        "  weights_input_to_hiden = np.array([weights_input_to_hiden_1, weights_input_to_hiden_2])\n",
        "\n",
        "  weights_hiden_to_output = np.array([-1, 1])\n",
        "\n",
        "  hiden_input = np.dot(weights_input_to_hiden, inputs)\n",
        "  print(\"hiden_input: \" + str(hiden_input))\n",
        "\n",
        "  hiden_output = np.array([activation_function(x) for x in hiden_input])\n",
        "  print(\"hiden_output: \" + str(hiden_output))\n",
        "\n",
        "  output = np.dot(weights_hiden_to_output, hiden_output) \n",
        "  print(\"output: \" + str(output)) \n",
        "  return activation_function(output) == 1\n",
        "\n",
        "print(\"result: \" + str(predict(vodka, rain, friend)))"
      ]
    }
  ]
}